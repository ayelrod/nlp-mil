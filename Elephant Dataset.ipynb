{
 "cells": [
  {
   "cell_type": "code",
   "execution_count": 4,
   "metadata": {},
   "outputs": [],
   "source": [
    "import scipy.io"
   ]
  },
  {
   "cell_type": "code",
   "execution_count": 5,
   "metadata": {},
   "outputs": [],
   "source": [
    "elephant_matrix = scipy.io.loadmat(\"elephant_100x100_matlab.mat\")"
   ]
  },
  {
   "cell_type": "code",
   "execution_count": 6,
   "metadata": {},
   "outputs": [
    {
     "name": "stdout",
     "output_type": "stream",
     "text": [
      "positive: 762\n",
      "negative: 629\n"
     ]
    }
   ],
   "source": [
    "positive = 0\n",
    "negative = 0\n",
    "for i in range(1391):\n",
    "    if elephant_matrix[\"labels\"].data[i] == 1.0:\n",
    "        positive += 1\n",
    "    else:\n",
    "        negative += 1\n",
    "        \n",
    "print(\"positive: \" + str(positive))\n",
    "print(\"negative: \" + str(negative))\n",
    "\n",
    "# There are 762 positive instances and 629 negative instances\n",
    "# This is consistent with the information on the website"
   ]
  },
  {
   "cell_type": "code",
   "execution_count": 13,
   "metadata": {},
   "outputs": [],
   "source": [
    "def elephantData(filename):\n",
    "    elephant_mat = scipy.io.loadmat(filename)\n",
    "    \n",
    "    #there are 200 bags, 1391 instances and 230 features per instance\n",
    "    bags = []\n",
    "    instances = []\n",
    "    count = 0\n",
    "    prev = 1\n",
    "    labelsBags =[]\n",
    "    for i in range(200):\n",
    "        labelsBags.append(-1.0)\n",
    "        \n",
    "    for i in range(1391):\n",
    "        if elephant_mat[\"bag_ids\"][0][i] != prev: #if bag id changes, go onto the next bag\n",
    "            prev = elephant_mat[\"bag_ids\"][0][i]\n",
    "            bags.append(instances[:])\n",
    "            instances = []\n",
    "        \n",
    "        if(elephant_mat[\"labels\"].data[i] == 1.0 and labelsBags[prev-1] == -1.0):\n",
    "            labelsBags[prev-1] = 1.0\n",
    "        \n",
    "        features = []\n",
    "        for j in range(230):\n",
    "            features.append(elephant_mat[\"features\"][i,j]) # fill feature list\n",
    "        instances.append(features[:]) #add instance to bag \n",
    "    \n",
    "    bags.append(instances[:]) # append the 200th bag outside of loop\n",
    "    \n",
    "    #there are 1391 labels, one for each instance --- 1 is true, -1 is false\n",
    "    labelsInstances = []\n",
    "    for i in range(1391):\n",
    "        labelsInstances.append(elephant_mat[\"labels\"].data[i])\n",
    "    \n",
    "    return bags, labelsBags, labelsInstances "
   ]
  },
  {
   "cell_type": "code",
   "execution_count": 14,
   "metadata": {},
   "outputs": [],
   "source": [
    "bags, labelsBags, labelsInstances = elephantData(\"elephant_100x100_matlab.mat\")"
   ]
  },
  {
   "cell_type": "code",
   "execution_count": 17,
   "metadata": {},
   "outputs": [
    {
     "name": "stdout",
     "output_type": "stream",
     "text": [
      "# of bags: 200\n",
      "# of instances in 1st bag: 7\n",
      "[2.05773, 1.62976, 0.080978, 0.023681, 1.30025, -0.707316, 0.177115, -0.040445, 1.09813, -0.555563, 1.36178, -0.256632, -0.054535, -0.297912, -0.259869, -0.300955, -0.225084, -0.014952, -0.08711, -0.070055, 1.0043, 0.677399, -0.021302, -0.028883, -0.038542, -0.023332, -0.023412, 0.0, 0.0, -0.02702, -0.198246, -0.20685, -0.080912, -0.327191, -0.331279, -0.26576, -0.080866, -0.156193, 0.346395, -0.020226, -0.287073, -0.025787, -0.073582, -0.082127, 2.102, 1.38256, 0.463819, 0.0, -0.021708, -0.021658, -0.041491, -0.032279, -0.071887, 0.369097, -0.014952, 0.0, 0.0, 0.0, 0.0, -0.014952, -0.017265, -0.024647, -0.021215, 0.0, 0.0, 0.0, 0.0, 0.0, 0.0, -0.065785, -0.049974, -0.014952, -0.048732, -0.173228, -0.177573, -0.091775, -0.050171, -0.114846, -0.3317, -0.407612, -0.263784, -0.139878, 0.0, -0.06989, -0.252798, 1.01269, 0.152613, -0.247553, -0.102253, 0.0, 0.0, -0.040796, -0.056023, 1.77002, 0.609765, 0.042545, -0.074486, 0.0, 0.0, 0.0, -0.014952, -0.014982, -0.040764, -0.042342, -0.027653, -0.014952, 0.0, 0.0, 0.0, 0.0, 0.0, -0.021732, -0.021365, -0.018, 0.0, 0.0, 0.0, 0.0, 0.0, 0.0, -0.017556, -0.021126, 0.0, 0.0, 0.0, 0.0, 0.0, 0.0, 0.0, 0.0, 0.0, 0.0, 0.0, -0.018485, -0.01594, 0.0, 0.0, -0.043134, -0.029996, -0.09331, -0.098605, -0.071579, -0.017934, -0.063725, -0.182197, -0.255619, -0.391468, -0.187455, -0.077681, -0.03269, 0.0, -0.053085, -0.340356, 0.440596, 0.538283, -0.171326, -0.072849, -0.032187, 0.0, 0.0, 0.260728, 1.48698, 1.50393, -0.054582, -0.032023, 0.0, 0.0, 0.0, -0.015029, -0.021431, -0.018157, 0.0, 0.0, 0.0, 0.0, 0.0, 0.0, -0.019294, -0.017308, 0.0, 0.0, 0.0, 0.0, 0.0, 0.0, 0.0, 0.0, 0.0, 0.0, 0.0, 0.0, 0.0, 0.0, 0.0, 0.0, 0.0, 0.0, 0.0, 0.0, 0.0, -0.032096, -0.043388, -0.027179, 0.0, 0.0, 0.0, -0.099876, -0.135405, -0.183154, -0.106346, -0.037709, 0.0, 0.0, 0.0, -0.265739, -0.566476, -0.366808, -0.102856, -0.017565, 0.0, 0.0, 0.0, -0.049855, -0.09967, -0.078862, -0.021452, 0.0, 0.0, -0.014952, -0.021097]\n",
      "[1.0, 1.0, 1.0, 1.0, 1.0, 1.0, 1.0, 1.0, 1.0, 1.0, 1.0, 1.0, 1.0, 1.0, 1.0, 1.0, 1.0, 1.0, 1.0, 1.0, 1.0, 1.0, 1.0, 1.0, 1.0, 1.0, 1.0, 1.0, 1.0, 1.0, 1.0, 1.0, 1.0, 1.0, 1.0, 1.0, 1.0, 1.0, 1.0, 1.0, 1.0, 1.0, 1.0, 1.0, 1.0, 1.0, 1.0, 1.0, 1.0, 1.0, 1.0, 1.0, 1.0, 1.0, 1.0, 1.0, 1.0, 1.0, 1.0, 1.0, 1.0, 1.0, 1.0, 1.0, 1.0, 1.0, 1.0, 1.0, 1.0, 1.0, 1.0, 1.0, 1.0, 1.0, 1.0, 1.0, 1.0, 1.0, 1.0, 1.0, 1.0, 1.0, 1.0, 1.0, 1.0, 1.0, 1.0, 1.0, 1.0, 1.0, 1.0, 1.0, 1.0, 1.0, 1.0, 1.0, 1.0, 1.0, 1.0, 1.0, -1.0, -1.0, -1.0, -1.0, -1.0, -1.0, -1.0, -1.0, -1.0, -1.0, -1.0, -1.0, -1.0, -1.0, -1.0, -1.0, -1.0, -1.0, -1.0, -1.0, -1.0, -1.0, -1.0, -1.0, -1.0, -1.0, -1.0, -1.0, -1.0, -1.0, -1.0, -1.0, -1.0, -1.0, -1.0, -1.0, -1.0, -1.0, -1.0, -1.0, -1.0, -1.0, -1.0, -1.0, -1.0, -1.0, -1.0, -1.0, -1.0, -1.0, -1.0, -1.0, -1.0, -1.0, -1.0, -1.0, -1.0, -1.0, -1.0, -1.0, -1.0, -1.0, -1.0, -1.0, -1.0, -1.0, -1.0, -1.0, -1.0, -1.0, -1.0, -1.0, -1.0, -1.0, -1.0, -1.0, -1.0, -1.0, -1.0, -1.0, -1.0, -1.0, -1.0, -1.0, -1.0, -1.0, -1.0, -1.0, -1.0, -1.0, -1.0, -1.0, -1.0, -1.0, -1.0, -1.0, -1.0, -1.0, -1.0, -1.0]\n",
      "200\n",
      "100\n"
     ]
    }
   ],
   "source": [
    "# if we print the length of bags, it will print 200. There are 200 bags, 100 are positive and 100 are negative\n",
    "print(\"# of bags: \" + str(len(bags)))\n",
    "\n",
    "# the below print statement is printing the length of the first bag. It prints 7 because there are 7 instances in the first bag\n",
    "# THE AVERAGE NUMBER OF INSTANCES PER BAG IS 6.955\n",
    "print(\"# of instances in 1st bag: \" + str(len(bags[0])))\n",
    "\n",
    "# the print statement below prints out the first instance. It is a feature vector with 230 features.\n",
    "# Each instance has 230 features\n",
    "print(bags[0][0])\n",
    "\n",
    "print(\" \")\n",
    "\n",
    "# Now lets look at the labelsBags list, which should hold the label for each bag\n",
    "print(labelsBags)\n",
    "print(\" \")\n",
    "print(len(labelsBags))\n",
    "\n",
    "# lets make sure we have 100 positive bags and 100 negative bags\n",
    "count = 0\n",
    "for i in range(200):\n",
    "    if(labelsBags[i] == 1.0):\n",
    "        count += 1\n",
    "print(count)"
   ]
  },
  {
   "cell_type": "code",
   "execution_count": null,
   "metadata": {},
   "outputs": [],
   "source": []
  }
 ],
 "metadata": {
  "kernelspec": {
   "display_name": "Python 3",
   "language": "python",
   "name": "python3"
  },
  "language_info": {
   "codemirror_mode": {
    "name": "ipython",
    "version": 3
   },
   "file_extension": ".py",
   "mimetype": "text/x-python",
   "name": "python",
   "nbconvert_exporter": "python",
   "pygments_lexer": "ipython3",
   "version": "3.8.5"
  }
 },
 "nbformat": 4,
 "nbformat_minor": 4
}
