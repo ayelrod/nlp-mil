{
 "cells": [
  {
   "cell_type": "code",
   "execution_count": 1,
   "metadata": {},
   "outputs": [],
   "source": [
    "import scipy.io"
   ]
  },
  {
   "cell_type": "code",
   "execution_count": 2,
   "metadata": {},
   "outputs": [],
   "source": [
    "fox_matrix = scipy.io.loadmat(\"fox_100x100_matlab.mat\")"
   ]
  },
  {
   "cell_type": "code",
   "execution_count": 3,
   "metadata": {},
   "outputs": [
    {
     "name": "stdout",
     "output_type": "stream",
     "text": [
      "positive: 647\n",
      "negative: 673\n"
     ]
    }
   ],
   "source": [
    "positive = 0\n",
    "negative = 0\n",
    "for i in range(1320):\n",
    "    if fox_matrix[\"labels\"].data[i] == 1.0:\n",
    "        positive += 1\n",
    "    else:\n",
    "        negative += 1\n",
    "        \n",
    "print(\"positive: \" + str(positive))\n",
    "print(\"negative: \" + str(negative))\n",
    "\n",
    "# There are 647 positive instances and 673 negative instances\n",
    "# This is consistent with the information on the website\n"
   ]
  },
  {
   "cell_type": "code",
   "execution_count": 6,
   "metadata": {},
   "outputs": [],
   "source": [
    "def foxData(filename):\n",
    "    fox_mat = scipy.io.loadmat(filename)\n",
    "    \n",
    "    #there are 200 bags, 1320 instances and 230 features per instance\n",
    "    bags = []\n",
    "    instances = []\n",
    "    count = 0\n",
    "    prev = 1\n",
    "    labelsBags = []\n",
    "    for i in range(200):\n",
    "        labelsBags.append(-1.0)\n",
    "        \n",
    "    for i in range(1320):\n",
    "        if fox_mat[\"bag_ids\"][0][i] != prev: #if bag id changes, go onto the next bag\n",
    "            prev = fox_mat[\"bag_ids\"][0][i]\n",
    "            bags.append(instances[:])\n",
    "            instances = []\n",
    "        \n",
    "        if(fox_mat[\"labels\"].data[i] == 1.0 and labelsBags[prev-1] == -1.0):\n",
    "            labelsBags[prev-1] = 1.0\n",
    "        \n",
    "        features = []\n",
    "        for j in range(230):\n",
    "            features.append(fox_mat[\"features\"][i,j]) # fill feature list\n",
    "        instances.append(features[:]) #add instance to bag \n",
    "    \n",
    "    bags.append(instances[:]) # append the 200th bag outside of loop\n",
    "    \n",
    "    #there are 1320 labels, one for each instance --- 1 is true, -1 is false\n",
    "    labelsInstances = []\n",
    "    for i in range(1320):\n",
    "        labelsInstances.append(fox_mat[\"labels\"].data[i])\n",
    "    \n",
    "    return bags, labelsBags, labelsInstances "
   ]
  },
  {
   "cell_type": "code",
   "execution_count": 7,
   "metadata": {},
   "outputs": [],
   "source": [
    "bags, labelsBags, labelsInstances = foxData(\"fox_100x100_matlab.mat\")"
   ]
  },
  {
   "cell_type": "code",
   "execution_count": 9,
   "metadata": {},
   "outputs": [
    {
     "name": "stdout",
     "output_type": "stream",
     "text": [
      "# of bags: 200\n",
      "# of instances in 1st bag: 6\n",
      "[-1.31375, -1.22793, 0.159553, 0.724737, 1.85921, -0.71493, 0.126027, 0.688342, 1.83155, -0.004459, -0.811474, -2.52032, -0.054535, -0.297912, -0.261335, -0.302051, -0.225084, -0.014952, -0.08711, -0.167402, -0.200329, -0.248836, -0.021302, -0.028883, -0.038542, -0.023332, -0.023412, 0.0, 0.0, -0.02702, -0.198246, -0.20685, -0.080912, -0.327191, -0.347995, -0.26576, -0.080866, -0.224814, -0.529019, -0.451394, -0.309461, -0.025787, -0.073582, -0.114571, -0.18949, -0.160794, -0.201557, 0.0, -0.021708, -0.021658, -0.041491, -0.032279, -0.071887, -0.095154, -0.014952, 0.0, 0.0, 0.0, 0.0, -0.014952, -0.017265, -0.024647, -0.021215, 0.0, 0.0, 0.0, 0.0, 0.0, 0.0, -0.065785, -0.049974, -0.014952, -0.048732, -0.173228, -0.177573, -0.091775, 0.54474, 1.28289, -0.3317, -0.408478, -0.263784, -0.139878, 0.0, 0.073887, 2.0644, -0.785786, -0.590402, -0.260113, -0.102253, 0.0, 0.0, -0.040796, -0.056023, -0.168633, -0.188284, -0.115671, -0.074486, 0.0, 0.0, 0.0, -0.014952, -0.014982, -0.040764, -0.042342, -0.027653, -0.014952, 0.0, 0.0, 0.0, 0.0, 0.0, -0.021732, -0.021365, -0.018, 0.0, 0.0, 0.0, 0.0, 0.0, 0.0, -0.017556, -0.021126, 0.0, 0.0, 0.0, 0.0, 0.0, 0.0, 0.0, 0.0, 0.0, 0.0, 0.0, -0.018485, -0.01594, 0.0, 0.0, -0.043134, -0.029996, -0.09331, -0.098605, -0.071579, -0.017934, -0.063725, -0.022076, -0.255619, -0.391468, -0.187455, -0.077681, -0.03269, 0.0, -0.053085, 3.92448, -1.02777, -0.655993, -0.171326, -0.072849, -0.032187, 0.0, 0.0, -0.061848, -0.174962, -0.192699, -0.054582, -0.032023, 0.0, 0.0, 0.0, -0.015029, -0.021431, -0.018157, 0.0, 0.0, 0.0, 0.0, 0.0, 0.0, -0.019294, -0.017308, 0.0, 0.0, 0.0, 0.0, 0.0, 0.0, 0.0, 0.0, 0.0, 0.0, 0.0, 0.0, 0.0, 0.0, 0.0, 0.0, 0.0, 0.0, 0.0, 0.0, 0.0, -0.032096, -0.043388, -0.027179, 0.0, 0.0, 0.0, -0.099876, -0.135405, -0.183154, -0.106346, -0.037709, 0.0, 0.0, 0.0, -0.124278, 0.563973, -0.412626, -0.102856, -0.017565, 0.0, 0.0, 0.0, -0.049855, -0.114025, -0.078862, -0.021452, 0.0, 0.0, -0.014952, -0.021097]\n",
      " \n",
      "[1.0, 1.0, 1.0, 1.0, 1.0, 1.0, 1.0, 1.0, 1.0, 1.0, 1.0, 1.0, 1.0, 1.0, 1.0, 1.0, 1.0, 1.0, 1.0, 1.0, 1.0, 1.0, 1.0, 1.0, 1.0, 1.0, 1.0, 1.0, 1.0, 1.0, 1.0, 1.0, 1.0, 1.0, 1.0, 1.0, 1.0, 1.0, 1.0, 1.0, 1.0, 1.0, 1.0, 1.0, 1.0, 1.0, 1.0, 1.0, 1.0, 1.0, 1.0, 1.0, 1.0, 1.0, 1.0, 1.0, 1.0, 1.0, 1.0, 1.0, 1.0, 1.0, 1.0, 1.0, 1.0, 1.0, 1.0, 1.0, 1.0, 1.0, 1.0, 1.0, 1.0, 1.0, 1.0, 1.0, 1.0, 1.0, 1.0, 1.0, 1.0, 1.0, 1.0, 1.0, 1.0, 1.0, 1.0, 1.0, 1.0, 1.0, 1.0, 1.0, 1.0, 1.0, 1.0, 1.0, 1.0, 1.0, 1.0, 1.0, -1.0, -1.0, -1.0, -1.0, -1.0, -1.0, -1.0, -1.0, -1.0, -1.0, -1.0, -1.0, -1.0, -1.0, -1.0, -1.0, -1.0, -1.0, -1.0, -1.0, -1.0, -1.0, -1.0, -1.0, -1.0, -1.0, -1.0, -1.0, -1.0, -1.0, -1.0, -1.0, -1.0, -1.0, -1.0, -1.0, -1.0, -1.0, -1.0, -1.0, -1.0, -1.0, -1.0, -1.0, -1.0, -1.0, -1.0, -1.0, -1.0, -1.0, -1.0, -1.0, -1.0, -1.0, -1.0, -1.0, -1.0, -1.0, -1.0, -1.0, -1.0, -1.0, -1.0, -1.0, -1.0, -1.0, -1.0, -1.0, -1.0, -1.0, -1.0, -1.0, -1.0, -1.0, -1.0, -1.0, -1.0, -1.0, -1.0, -1.0, -1.0, -1.0, -1.0, -1.0, -1.0, -1.0, -1.0, -1.0, -1.0, -1.0, -1.0, -1.0, -1.0, -1.0, -1.0, -1.0, -1.0, -1.0, -1.0, -1.0]\n",
      "200\n",
      "100\n"
     ]
    }
   ],
   "source": [
    "# if we print the length of bags, it will print 200. There are 200 bags, 100 are positive and 100 are negative\n",
    "print(\"# of bags: \" + str(len(bags)))\n",
    "\n",
    "# the below print statement is printing the length of the first bag. It prints 6 because there are 6 instances in the first bag\n",
    "# THE AVERAGE NUMBER OF INSTANCES PER BAG IS 6.6\n",
    "print(\"# of instances in 1st bag: \" + str(len(bags[0])))\n",
    "\n",
    "# the print statement below prints out the first instance. It is a feature vector with 230 features.\n",
    "# Each instance has 230 features\n",
    "print(bags[0][0])\n",
    "print(\" \")\n",
    "\n",
    "# Now lets look at the labelsBags list, which should hold the label for each bag\n",
    "print(labelsBags)\n",
    "print(\" \")\n",
    "print(len(labelsBags))\n",
    "\n",
    "# lets make sure we have 100 positive bags and 100 negative bags\n",
    "count = 0\n",
    "for i in range(200):\n",
    "    if(labelsBags[i] == 1.0):\n",
    "        count += 1\n",
    "print(count)"
   ]
  },
  {
   "cell_type": "code",
   "execution_count": null,
   "metadata": {},
   "outputs": [],
   "source": []
  }
 ],
 "metadata": {
  "kernelspec": {
   "display_name": "Python 3",
   "language": "python",
   "name": "python3"
  },
  "language_info": {
   "codemirror_mode": {
    "name": "ipython",
    "version": 3
   },
   "file_extension": ".py",
   "mimetype": "text/x-python",
   "name": "python",
   "nbconvert_exporter": "python",
   "pygments_lexer": "ipython3",
   "version": "3.8.5"
  }
 },
 "nbformat": 4,
 "nbformat_minor": 4
}
